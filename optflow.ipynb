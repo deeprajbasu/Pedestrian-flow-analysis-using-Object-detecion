{
 "cells": [
  {
   "cell_type": "code",
   "execution_count": 53,
   "metadata": {},
   "outputs": [],
   "source": [
    "import numpy as np\n",
    "import imageio\n",
    "import cv2"
   ]
  },
  {
   "cell_type": "code",
   "execution_count": 58,
   "metadata": {},
   "outputs": [],
   "source": [
    "total_frames=500\n",
    "def getFrames(vidfile):\n",
    "    vid = cv2.VideoCapture(vidfile)\n",
    "    frames = []\n",
    "    endframe = True\n",
    "    t = 0\n",
    "    while endframe:\n",
    "        if t>total_frames:\n",
    "            break\n",
    "        endframe,frame = vid.read()\n",
    "        \n",
    "        #resize images \n",
    "\n",
    "        scale_percent = 35 # percent of original size\n",
    "        width = int(frame.shape[1] * scale_percent / 100)\n",
    "        height = int(frame.shape[0] * scale_percent / 100)\n",
    "        dim = (width, height)\n",
    "\n",
    "      # resize image\n",
    "        frame = cv2.resize(frame, dim, interpolation = cv2.INTER_AREA)\n",
    "        #print(frame)\n",
    "        if endframe:\n",
    "            frames.append(frame)\n",
    "            #print(\"processing frame: \",t)\n",
    "            t+=1\n",
    "    return frames"
   ]
  },
  {
   "cell_type": "code",
   "execution_count": 76,
   "metadata": {},
   "outputs": [],
   "source": [
    "def compute_dense_optical_flow(prev_image, current_image):\n",
    "    old_shape = current_image.shape\n",
    "    prev_image_gray = cv2.cvtColor(prev_image, cv2.COLOR_BGR2GRAY)\n",
    "    current_image_gray = cv2.cvtColor(current_image, cv2.COLOR_BGR2GRAY)\n",
    "\n",
    "    assert current_image.shape == old_shape\n",
    "\n",
    "    flow = cv2.calcOpticalFlowFarneback(prev_image_gray,current_image_gray, None, 0.5, 3, 15, 3, 5, 1.2, 0)\n",
    "    \n",
    "    hsv = np.zeros_like(prev_image)\n",
    "    hsv[...,1] = 255\n",
    "\n",
    "    \n",
    "    mag, ang = cv2.cartToPolar(flow[...,0], flow[...,1])\n",
    "    hsv[...,0] = ang*180/np.pi/2\n",
    "    hsv[...,2] = cv2.normalize(mag,None,0,255,cv2.NORM_MINMAX)\n",
    "#     rgb = cv2.cvtColor(hsv,cv2.COLOR_BGR2GRAY)\n",
    "    \n",
    "    \n",
    "\n",
    "    return cv2.cvtColor(hsv, cv2.COLOR_HSV2BGR) \n",
    "    return rgb"
   ]
  },
  {
   "cell_type": "code",
   "execution_count": 85,
   "metadata": {},
   "outputs": [],
   "source": [
    "images_data= getFrames('tests/tdc1.mov')"
   ]
  },
  {
   "cell_type": "code",
   "execution_count": 86,
   "metadata": {},
   "outputs": [],
   "source": [
    "criteria = (cv2.TERM_CRITERIA_EPS + cv2.TERM_CRITERIA_MAX_ITER,\n",
    "         10, 1.0)\n",
    "\n",
    "flags = cv2.KMEANS_RANDOM_CENTERS\n",
    "\n",
    "with imageio.get_writer('Optflow2.gif', mode='I',fps=65) as gifwriter:\n",
    "    for i in range(0,len(images_data)-1):#trying to get better optical flow by comparing distant frames,                                                                 #instead of consecutive \n",
    "\n",
    "        image = compute_dense_optical_flow(images_data[i],images_data[i+1])\n",
    "        #image = (image/256).astype('uint8')\n",
    "\n",
    "        gifwriter.append_data(image)\n",
    "\n"
   ]
  },
  {
   "cell_type": "code",
   "execution_count": 87,
   "metadata": {},
   "outputs": [],
   "source": [
    "!gifsicle -i Optflow2.gif -O3 --colors 16 -o Optflow-opt2.gif"
   ]
  },
  {
   "cell_type": "code",
   "execution_count": null,
   "metadata": {},
   "outputs": [],
   "source": []
  }
 ],
 "metadata": {
  "kernelspec": {
   "display_name": "Python 3",
   "language": "python",
   "name": "python3"
  },
  "language_info": {
   "codemirror_mode": {
    "name": "ipython",
    "version": 3
   },
   "file_extension": ".py",
   "mimetype": "text/x-python",
   "name": "python",
   "nbconvert_exporter": "python",
   "pygments_lexer": "ipython3",
   "version": "3.6.10"
  }
 },
 "nbformat": 4,
 "nbformat_minor": 4
}
