{
 "cells": [
  {
   "cell_type": "markdown",
   "metadata": {},
   "source": [
    "## IMPORT LIBRARIES"
   ]
  },
  {
   "cell_type": "code",
   "execution_count": 1,
   "metadata": {},
   "outputs": [],
   "source": [
    "import numpy as np\n",
    "import tensorflow as tf\n",
    "import cv2\n",
    "from scipy.spatial import distance as dist\n",
    "from PIL import Image\n",
    "from object_detection.utils import label_map_util\n",
    "import imageio\n",
    "\n",
    "\n",
    "from centroid_track import CentroidTracker\n",
    "from anchor import DirectionAnchor"
   ]
  },
  {
   "cell_type": "markdown",
   "metadata": {},
   "source": [
    "## LOAD OUR TRAINED MODEL USING TENSORFLOW "
   ]
  },
  {
   "cell_type": "code",
   "execution_count": 4,
   "metadata": {},
   "outputs": [],
   "source": [
    "# Load a (frozen) Tensorflow model into memory.\n",
    "detection_graph = tf.Graph()\n",
    "with detection_graph.as_default():\n",
    "    od_graph_def = tf.compat.v1.GraphDef()\n",
    "    with tf.io.gfile.GFile('frozen_inference_graph.pb', 'rb') as fid:\n",
    "        serialized_graph = fid.read()\n",
    "        od_graph_def.ParseFromString(serialized_graph)\n",
    "        tf.import_graph_def(od_graph_def, name='')\n",
    "        \n",
    "        \n",
    "        "
   ]
  },
  {
   "cell_type": "code",
   "execution_count": 6,
   "metadata": {},
   "outputs": [],
   "source": [
    "# Loading label map\n",
    "# Label maps map indices to category names\n",
    "label_map = label_map_util.load_labelmap('a.pbtxt')\n",
    "categories = label_map_util.convert_label_map_to_categories(\n",
    "    label_map, max_num_classes=6, use_display_name=True)\n",
    "category_index = label_map_util.create_category_index(categories)\n",
    "\n"
   ]
  },
  {
   "cell_type": "markdown",
   "metadata": {},
   "source": [
    "## TAKING VIDEO INPUT USING OPENCV"
   ]
  },
  {
   "cell_type": "code",
   "execution_count": 5,
   "metadata": {},
   "outputs": [],
   "source": [
    "#video File input\n",
    "cap=cv2.VideoCapture('tests/video.mov')"
   ]
  },
  {
   "cell_type": "code",
   "execution_count": 9,
   "metadata": {},
   "outputs": [],
   "source": [
    "#for storing tracked centroids and direction achors\n",
    "ct = CentroidTracker()\n",
    "DirectionObjects = {}"
   ]
  },
  {
   "cell_type": "markdown",
   "metadata": {},
   "source": [
    "## INFERENCE LOOP"
   ]
  },
  {
   "cell_type": "code",
   "execution_count": 11,
   "metadata": {},
   "outputs": [],
   "source": [
    "# Detection\n",
    "with detection_graph.as_default():\n",
    "    with imageio.get_writer('out.gif', mode='I',fps=65) as gifwriter:\n",
    "        with tf.compat.v1.Session(graph=detection_graph) as sess:\n",
    "            while True:\n",
    "            \n",
    "                # Read frame from video file\n",
    "                \n",
    "                ret, image_np = cap.read()\n",
    "                width  = cap.get(3) # float\n",
    "                height = cap.get(4) # float\n",
    "                \n",
    "                # check if the frame is None,i.e. end of file if so, break out of the loop\n",
    "                if image_np is None:\n",
    "                    break\n",
    "\n",
    "                \n",
    "                #to store detected bounding boxes\n",
    "                rects = []\n",
    "\n",
    "                # Expand dimensions since the model expects images to have shape: [1, None, None, 3]\n",
    "                image_np_expanded = np.expand_dims(image_np, axis=0)\n",
    "                \n",
    "                # Extract image tensor\n",
    "                image_tensor = detection_graph.get_tensor_by_name('image_tensor:0')\n",
    "                # Extract detection boxes\n",
    "                boxes = detection_graph.get_tensor_by_name('detection_boxes:0')\n",
    "                # Extract detection scores\n",
    "                scores = detection_graph.get_tensor_by_name('detection_scores:0')\n",
    "                # Extract detection classes\n",
    "                classes = detection_graph.get_tensor_by_name('detection_classes:0')\n",
    "                # Extract number of detectionsd\n",
    "                num_detections = detection_graph.get_tensor_by_name(\n",
    "                    'num_detections:0')\n",
    "\n",
    "\n",
    "                # Actual detection.\n",
    "                (boxes, scores, classes, num_detections) = sess.run(\n",
    "                    [boxes, scores, classes, num_detections],\n",
    "                    feed_dict={image_tensor: image_np_expanded})\n",
    "\n",
    "\n",
    "                #loop over all detections and pass the valid ones to our tracker\n",
    "                \n",
    "                for i in range(0, boxes.shape[1]):\n",
    "                    \n",
    "                    if scores[0][i]>0.2:#conficence threshold\n",
    "\n",
    "                        if boxes[0][i][0]!=0:#so that no empty detections get added\n",
    "\n",
    "                            ymin = int((boxes[0][i][0]*height))\n",
    "                            xmin = int((boxes[0][i][1]*width))\n",
    "                            ymax = int((boxes[0][i][2]*height))\n",
    "                            xmax = int((boxes[0][i][3]*width))\n",
    "\n",
    "\n",
    "\n",
    "                            #visualize the detected bounding box\n",
    "                            cv2.rectangle(image_np, (xmin, ymin), (xmax, ymax),(0, 255, 0), 8)            \n",
    "                            rects.append([xmax,ymax,xmin,ymin])\n",
    "\n",
    "                #update tracking using this frames detections\n",
    "                objects = ct.update(rects)\n",
    "\n",
    "\n",
    "\n",
    "                # loop over the tracked objects\n",
    "                for (objectID, centroid) in objects.items():\n",
    "\n",
    "                    #VISUALISE the tracked centroid and tracking ID\n",
    "                    cv2.circle(image_np, (centroid[0], centroid[1]), 2, (255, 255, 255), -1)\n",
    "                    text = \"ID {}\".format(objectID)\n",
    "                    cv2.putText(image_np, text, (centroid[0] - 10, centroid[1] - 10),cv2.FONT_HERSHEY_SIMPLEX,3,(0, 255, 0),5)\n",
    "\n",
    "\n",
    "                    #try to get direction achor from our list \n",
    "                    to = DirectionObjects.get(objectID, None)\n",
    "\n",
    "                    # if there is no existing trackable object, create one\n",
    "\n",
    "\n",
    "                    if to is None:\n",
    "\n",
    "                        to = DirectionAnchor(objectID, centroid)\n",
    "\n",
    "                    #measure distance between current centroid and direction achor centroid\n",
    "                    d =dist.euclidean(tuple(centroid), tuple(to.centroids))\n",
    "                    if d > 250 :\n",
    "                        to.centroids = centroid#if more than threshold update anchor\n",
    "                        continue\n",
    "                    else:\n",
    "                    #draw and arrow between anchor and current position\n",
    "                        cv2.arrowedLine(image_np, tuple(to.centroids), tuple(centroid),(0, 255, 0), 10,tipLength = 0.6)\n",
    "                    #store Direction anchor\n",
    "                    DirectionObjects[objectID] = to\n",
    "\n",
    "                #resize for output\n",
    "                image_np=cv2.resize(image_np, (0, 0), fx = 0.2, fy = 0.2)\n",
    "                gifwriter.append_data(image_np)#write to gif File"
   ]
  }
 ],
 "metadata": {
  "kernelspec": {
   "display_name": "Python 3",
   "language": "python",
   "name": "python3"
  },
  "language_info": {
   "codemirror_mode": {
    "name": "ipython",
    "version": 3
   },
   "file_extension": ".py",
   "mimetype": "text/x-python",
   "name": "python",
   "nbconvert_exporter": "python",
   "pygments_lexer": "ipython3",
   "version": "3.6.10"
  }
 },
 "nbformat": 4,
 "nbformat_minor": 2
}
